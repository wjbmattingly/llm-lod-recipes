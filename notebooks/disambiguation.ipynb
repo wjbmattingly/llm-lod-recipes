{
 "cells": [
  {
   "cell_type": "markdown",
   "id": "3c6a1c79",
   "metadata": {},
   "source": [
    "## Disambiguation\n",
    "\n",
    "In this notebook...\n"
   ]
  },
  {
   "cell_type": "code",
   "execution_count": 1,
   "id": "72869171",
   "metadata": {},
   "outputs": [],
   "source": [
    "import sys\n",
    "sys.path.append(\"..\")"
   ]
  },
  {
   "cell_type": "code",
   "execution_count": 42,
   "id": "31b14d7e",
   "metadata": {},
   "outputs": [],
   "source": [
    "from dotenv import load_dotenv\n",
    "import os\n",
    "from openai import OpenAI\n",
    "from pydantic import BaseModel\n",
    "import json"
   ]
  },
  {
   "cell_type": "code",
   "execution_count": 3,
   "id": "63fb0248",
   "metadata": {},
   "outputs": [],
   "source": [
    "load_dotenv()\n",
    "OPENAI_API_KEY = os.getenv(\"OPENAI_API_KEY\")"
   ]
  },
  {
   "cell_type": "code",
   "execution_count": 4,
   "id": "626edad0",
   "metadata": {},
   "outputs": [],
   "source": [
    "client = OpenAI(api_key=OPENAI_API_KEY)"
   ]
  },
  {
   "cell_type": "code",
   "execution_count": 60,
   "id": "68e86d39",
   "metadata": {},
   "outputs": [],
   "source": [
    "MODEL = \"gpt-4o-mini\"\n",
    "TEXT = \"They marched from [Alexandria](LOCATION) through [Memphis](LOCATION) via the [Nile](LOCATION) to [Thebes](LOCATION).\"\n",
    "ENTITY_TO_IDENTIFY = \"Memphis\""
   ]
  },
  {
   "cell_type": "code",
   "execution_count": 111,
   "id": "94acadd0",
   "metadata": {},
   "outputs": [],
   "source": [
    "prompt = \"\"\"\n",
    "Query the web to identify this entity in Wikidata.\n",
    "\n",
    "{entity}\n",
    "\n",
    "It is within the context of the following text:\n",
    "\n",
    "{text}\n",
    "\n",
    "Only return the JSON output, nothing else. Do so with the following schema:\n",
    "\n",
    "class Entity(BaseModel):\n",
    "    entity_text: str\n",
    "    label: str\n",
    "    wikidata_id: str\n",
    "    sources: list[str]\n",
    "\"\"\""
   ]
  },
  {
   "cell_type": "code",
   "execution_count": 112,
   "id": "2f4ebaf7",
   "metadata": {},
   "outputs": [],
   "source": [
    "formatted_prompt = prompt.format(entity=ENTITY_TO_IDENTIFY, text=TEXT)"
   ]
  },
  {
   "cell_type": "code",
   "execution_count": 113,
   "id": "a9bac810",
   "metadata": {},
   "outputs": [
    {
     "name": "stdout",
     "output_type": "stream",
     "text": [
      "\n",
      "Query the web to identify this entity in Wikidata.\n",
      "\n",
      "Memphis\n",
      "\n",
      "It is within the context of the following text:\n",
      "\n",
      "They marched from [Alexandria](LOCATION) through [Memphis](LOCATION) via the [Nile](LOCATION) to [Thebes](LOCATION).\n",
      "\n",
      "Only return the JSON output, nothing else. Do so with the following schema:\n",
      "\n",
      "class Entity(BaseModel):\n",
      "    entity_text: str\n",
      "    label: str\n",
      "    wikidata_id: str\n",
      "    sources: list[str]\n",
      "\n"
     ]
    }
   ],
   "source": [
    "print(formatted_prompt)"
   ]
  },
  {
   "cell_type": "code",
   "execution_count": 114,
   "id": "0be66c1b",
   "metadata": {},
   "outputs": [],
   "source": [
    "\n",
    "response = client.responses.create(\n",
    "    model=\"gpt-4o\",\n",
    "    tools=[{\"type\": \"web_search\",\n",
    "}],\n",
    "    input=formatted_prompt,\n",
    ")\n",
    "\n",
    "output_text = response.output_text"
   ]
  },
  {
   "cell_type": "code",
   "execution_count": 115,
   "id": "39ea07a6",
   "metadata": {},
   "outputs": [
    {
     "name": "stdout",
     "output_type": "stream",
     "text": [
      "```json\n",
      "{\n",
      "  \"entity_text\": \"Memphis\",\n",
      "  \"label\": \"Memphis\",\n",
      "  \"wikidata_id\": \"Q5715\",\n",
      "  \"sources\": [\n",
      "    \"Wikidata entry for Memphis (ancient capital of Inebu-hedj, Egypt) ([wikidata.org](https://www.wikidata.org/wiki/Q5715?utm_source=openai), [m.wikidata.org](https://m.wikidata.org/wiki/Q5715?utm_source=openai))\",\n",
      "    \"Wikipedia article 'Memphis, Egypt' confirming its identity as the ancient capital of Inebu-hedj ([en.wikipedia.org](https://en.wikipedia.org/wiki/Memphis%2C_Egypt?utm_source=openai))\"\n",
      "  ]\n",
      "}\n",
      "```\n"
     ]
    }
   ],
   "source": [
    "print(output_text)"
   ]
  },
  {
   "cell_type": "code",
   "execution_count": 116,
   "id": "7c3db775",
   "metadata": {},
   "outputs": [
    {
     "name": "stdout",
     "output_type": "stream",
     "text": [
      "{'entity_text': 'Memphis', 'label': 'Memphis', 'wikidata_id': 'Q5715', 'sources': ['Wikidata entry for Memphis (ancient capital of Inebu-hedj, Egypt) ([wikidata.org](https://www.wikidata.org/wiki/Q5715?utm_source=openai), [m.wikidata.org](https://m.wikidata.org/wiki/Q5715?utm_source=openai))', \"Wikipedia article 'Memphis, Egypt' confirming its identity as the ancient capital of Inebu-hedj ([en.wikipedia.org](https://en.wikipedia.org/wiki/Memphis%2C_Egypt?utm_source=openai))\"]}\n"
     ]
    }
   ],
   "source": [
    "def parse_json_with_sources(text):\n",
    "    json_data = text.split(\"```json\")[1]\n",
    "    json_data, sources = json_data.split(\"```\")\n",
    "    json_data = json.loads(json_data)\n",
    "    return json_data, sources\n",
    "\n",
    "json_output, sources = parse_json_with_sources(output_text)\n",
    "print(json_output)"
   ]
  },
  {
   "cell_type": "code",
   "execution_count": null,
   "id": "83f8ed1f",
   "metadata": {},
   "outputs": [],
   "source": []
  },
  {
   "cell_type": "code",
   "execution_count": null,
   "id": "e4685590",
   "metadata": {},
   "outputs": [],
   "source": []
  },
  {
   "cell_type": "code",
   "execution_count": null,
   "id": "265856e8",
   "metadata": {},
   "outputs": [],
   "source": []
  }
 ],
 "metadata": {
  "kernelspec": {
   "display_name": "gliner",
   "language": "python",
   "name": "python3"
  },
  "language_info": {
   "codemirror_mode": {
    "name": "ipython",
    "version": 3
   },
   "file_extension": ".py",
   "mimetype": "text/x-python",
   "name": "python",
   "nbconvert_exporter": "python",
   "pygments_lexer": "ipython3",
   "version": "3.10.18"
  }
 },
 "nbformat": 4,
 "nbformat_minor": 5
}
